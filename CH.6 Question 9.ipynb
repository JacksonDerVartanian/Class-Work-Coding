{
  "metadata": {
    "language_info": {
      "codemirror_mode": {
        "name": "python",
        "version": 3
      },
      "file_extension": ".py",
      "mimetype": "text/x-python",
      "name": "python",
      "nbconvert_exporter": "python",
      "pygments_lexer": "ipython3",
      "version": "3.8"
    },
    "kernelspec": {
      "name": "python",
      "display_name": "Python (Pyodide)",
      "language": "python"
    }
  },
  "nbformat_minor": 4,
  "nbformat": 4,
  "cells": [
    {
      "cell_type": "code",
      "source": "#make the variables to store our numbers\n\ntotal_num = 0\ncount = 0\n\n#then you have to open the file with a with statement\nwith open('filename.txt', 'r') as file:\n# Then you have to make sure the code goes through all of the numbers in the file\n    for line in file:\n        try:\n#You then need to convert your into an integer that is added to the total\n            number = int(line.strip())\n            total_num += number\n            count += 1\n        except ValueError:\n#We then need to print the non integer values\n            print(f\"Not using non Integer Values: {line.strip()}\")\n#Now we Calculate the Average\nif count > 0:\n    average = total_num / count\n    print(f'average of {count} numbers is: {average}')\nelse:\n    print(\"There were no valid numbers in this set\")\n    \nexcept FileNotFoundError:\n    print(\"Sorry The file was not found\")\nexcept IOError:\n    print(\"We ran into an error reading the file\")\nexcept Exception as e:\n    print(f'We ran into an Unexpected Error')",
      "metadata": {},
      "execution_count": null,
      "outputs": []
    }
  ]
}