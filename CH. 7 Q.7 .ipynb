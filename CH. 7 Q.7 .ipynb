{
  "metadata": {
    "language_info": {
      "codemirror_mode": {
        "name": "python",
        "version": 3
      },
      "file_extension": ".py",
      "mimetype": "text/x-python",
      "name": "python",
      "nbconvert_exporter": "python",
      "pygments_lexer": "ipython3",
      "version": "3.8"
    },
    "kernelspec": {
      "name": "python",
      "display_name": "Python (Pyodide)",
      "language": "python"
    }
  },
  "nbformat_minor": 4,
  "nbformat": 4,
  "cells": [
    {
      "cell_type": "code",
      "source": "def numbers_greater_than_n(input_list, n)\n\n#code to go through all elements of the list and then check if the number is bigger than n \nfor num in input_list:\n    if num > n:\n        print(num)\n#since we have no numbers we just have to print the outcome of this code\nprint(f'Numbers greater than {num}",
      "metadata": {},
      "execution_count": null,
      "outputs": []
    }
  ]
}