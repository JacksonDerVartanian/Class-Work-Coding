{
  "metadata": {
    "language_info": {
      "codemirror_mode": {
        "name": "python",
        "version": 3
      },
      "file_extension": ".py",
      "mimetype": "text/x-python",
      "name": "python",
      "nbconvert_exporter": "python",
      "pygments_lexer": "ipython3",
      "version": "3.8"
    },
    "kernelspec": {
      "name": "python",
      "display_name": "Python (Pyodide)",
      "language": "python"
    }
  },
  "nbformat_minor": 4,
  "nbformat": 4,
  "cells": [
    {
      "cell_type": "code",
      "source": "def multiply_10(number):\n    result = number * 10\n    print(result)\n    \n#This code Here Inputs the user to give a number and that number will then get multiplied by 10 and then the result will be printed ",
      "metadata": {
        "trusted": true
      },
      "execution_count": 5,
      "outputs": []
    }
  ]
}