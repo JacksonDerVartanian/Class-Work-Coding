{
  "metadata": {
    "language_info": {
      "codemirror_mode": {
        "name": "python",
        "version": 3
      },
      "file_extension": ".py",
      "mimetype": "text/x-python",
      "name": "python",
      "nbconvert_exporter": "python",
      "pygments_lexer": "ipython3",
      "version": "3.8"
    },
    "kernelspec": {
      "name": "python",
      "display_name": "Python (Pyodide)",
      "language": "python"
    }
  },
  "nbformat_minor": 4,
  "nbformat": 4,
  "cells": [
    {
      "cell_type": "code",
      "source": "# What will the following program display?\n\ndef main(): \n    x = 1 \n    y = 3.4 \n    print(x, y) \n    change_us(x, y) \n    print(x, y) \ndef change_us(a, b): \n    a = 0 \n    b = 0 \n    print(a, b) \nmain()\n\n# This code Here Starts off by assigning x and y a number. This then leads the code to print 1, 3.4 \n# then the Change Us function calls for the x and y to be changed and I think this would lead to the next print being 0,0\n# Then I think since main is written under the print function 1, 3.4 again ",
      "metadata": {},
      "execution_count": null,
      "outputs": []
    }
  ]
}