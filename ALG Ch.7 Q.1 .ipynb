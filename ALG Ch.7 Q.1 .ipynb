{
  "metadata": {
    "language_info": {
      "codemirror_mode": {
        "name": "python",
        "version": 3
      },
      "file_extension": ".py",
      "mimetype": "text/x-python",
      "name": "python",
      "nbconvert_exporter": "python",
      "pygments_lexer": "ipython3",
      "version": "3.8"
    },
    "kernelspec": {
      "name": "python",
      "display_name": "Python (Pyodide)",
      "language": "python"
    }
  },
  "nbformat_minor": 4,
  "nbformat": 4,
  "cells": [
    {
      "cell_type": "code",
      "source": "#For this Problem I believe it is fairly simple, To make a statement that creates a list with the following names\n# you just have to set my_list and then put in the names \n\nmy_list = ['Einstein', 'Newton', 'Copernicus', 'Kelper']",
      "metadata": {
        "trusted": true
      },
      "execution_count": 2,
      "outputs": []
    }
  ]
}