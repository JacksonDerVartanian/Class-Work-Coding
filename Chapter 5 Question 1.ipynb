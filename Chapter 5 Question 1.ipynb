{
  "metadata": {
    "language_info": {
      "codemirror_mode": {
        "name": "python",
        "version": 3
      },
      "file_extension": ".py",
      "mimetype": "text/x-python",
      "name": "python",
      "nbconvert_exporter": "python",
      "pygments_lexer": "ipython3",
      "version": "3.8"
    },
    "kernelspec": {
      "name": "python",
      "display_name": "Python (Pyodide)",
      "language": "python"
    }
  },
  "nbformat_minor": 4,
  "nbformat": 4,
  "cells": [
    {
      "cell_type": "code",
      "source": "#Write a program that asks the user to enter a distance in kilometers, then uses a function to convert that distance to miles. The conversion formula is as follows:\n#Miles = Kilometers x .6214\n\ndef kilometers_miles(kilometers):\n    miles = kilometers * .6214\n    return miles\n#This here is the function That is going to do the converting\n\nkilometers_inp = float(input(\"Enter a Distance in Kilometers: \"))\n# this code here gets the user to input their distance in Kilometers\n                       \nmiles_outp = kilometers_miles (kilometers_inp)\n#This then Calls to the conversion Function \n                       \nprint(f\"{kilometers_inp} kilometers is equivalent to {miles_outp} miles.\")",
      "metadata": {
        "trusted": true
      },
      "execution_count": 2,
      "outputs": [
        {
          "ename": "<class 'TypeError'>",
          "evalue": "float() argument must be a string or a real number, not 'PyodideFuture'",
          "traceback": [
            "\u001b[0;31m---------------------------------------------------------------------------\u001b[0m",
            "\u001b[0;31mTypeError\u001b[0m                                 Traceback (most recent call last)",
            "Cell \u001b[0;32mIn[2], line 9\u001b[0m\n\u001b[1;32m      6\u001b[0m     \u001b[38;5;28;01mreturn\u001b[39;00m miles\n\u001b[1;32m      7\u001b[0m \u001b[38;5;66;03m#This here is the function That is going to do the converting\u001b[39;00m\n\u001b[0;32m----> 9\u001b[0m kilometers_inp \u001b[38;5;241m=\u001b[39m \u001b[38;5;28;43mfloat\u001b[39;49m\u001b[43m(\u001b[49m\u001b[38;5;28;43minput\u001b[39;49m\u001b[43m(\u001b[49m\u001b[38;5;124;43m\"\u001b[39;49m\u001b[38;5;124;43mEnter a Distance in Kilometers: \u001b[39;49m\u001b[38;5;124;43m\"\u001b[39;49m\u001b[43m)\u001b[49m\u001b[43m)\u001b[49m\n\u001b[1;32m     10\u001b[0m \u001b[38;5;66;03m# this code here gets the user to input their distance in Kilometers\u001b[39;00m\n\u001b[1;32m     12\u001b[0m miles_outp \u001b[38;5;241m=\u001b[39m kilometers_miles (kilometers_inp)\n",
            "\u001b[0;31mTypeError\u001b[0m: float() argument must be a string or a real number, not 'PyodideFuture'"
          ],
          "output_type": "error"
        },
        {
          "output_type": "stream",
          "name": "stdin",
          "text": "Enter a Distance in Kilometers:  10\n"
        }
      ]
    },
    {
      "cell_type": "code",
      "source": "",
      "metadata": {},
      "execution_count": null,
      "outputs": []
    }
  ]
}