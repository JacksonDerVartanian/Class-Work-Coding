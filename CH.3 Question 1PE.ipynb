{
  "metadata": {
    "language_info": {
      "codemirror_mode": {
        "name": "python",
        "version": 3
      },
      "file_extension": ".py",
      "mimetype": "text/x-python",
      "name": "python",
      "nbconvert_exporter": "python",
      "pygments_lexer": "ipython3",
      "version": "3.8"
    },
    "kernelspec": {
      "name": "python",
      "display_name": "Python (Pyodide)",
      "language": "python"
    }
  },
  "nbformat_minor": 4,
  "nbformat": 4,
  "cells": [
    {
      "cell_type": "code",
      "source": "# Write a program that asks the user for a number in the range of 1 through 7. The program should display the corresponding day of the week, where 1 = Monday, \n# 2 = Tuesday, 3 = Wednesday, 4 = Thursday, 5 = Friday, 6 = Saturday, and 7 = Sunday. The program should display an error message if the user enters a number \n# that is outside the range of 1 through 7.\n\nusers_input = input(\"enter a number 1-7: \")\nnumber = int(users_input)\n# the code above calls to the user to input the the information and if it is a number 1-7 it will tell you the day of the week it it does not follow these conditions then it will give an error message\n# the code Below is made kind of in a long way however it will be looking out for the numbers 123456 and 7 and then it will\n#match it to its corresponding day and then if a number is inputted not 1-7 then you will get an error message\nif number == 1:\n    print(\"Monday\")\nif number == 2:\n    print(\"Tuesday\")\nif number == 3:\n    print(\"Wednesday\")\nif number == 4:\n    print(\"Thursday\")\nif number == 5:\n    print(\"Friday\")\nif number == 6:\n    print(\"Saturday\")\nif number == 7:\n    print(\"Sunday\")\nif number < 1 or number > 7:\n          print(\"ERROR!\")\n          \n          \n    ",
      "metadata": {
        "trusted": true
      },
      "execution_count": 3,
      "outputs": [
        {
          "ename": "<class 'TypeError'>",
          "evalue": "int() argument must be a string, a bytes-like object or a real number, not 'PyodideFuture'",
          "traceback": [
            "\u001b[0;31m---------------------------------------------------------------------------\u001b[0m",
            "\u001b[0;31mTypeError\u001b[0m                                 Traceback (most recent call last)",
            "Cell \u001b[0;32mIn[3], line 6\u001b[0m\n\u001b[1;32m      1\u001b[0m \u001b[38;5;66;03m# Write a program that asks the user for a number in the range of 1 through 7. The program should display the corresponding day of the week, where 1 = Monday, \u001b[39;00m\n\u001b[1;32m      2\u001b[0m \u001b[38;5;66;03m# 2 = Tuesday, 3 = Wednesday, 4 = Thursday, 5 = Friday, 6 = Saturday, and 7 = Sunday. The program should display an error message if the user enters a number \u001b[39;00m\n\u001b[1;32m      3\u001b[0m \u001b[38;5;66;03m# that is outside the range of 1 through 7.\u001b[39;00m\n\u001b[1;32m      5\u001b[0m users_input \u001b[38;5;241m=\u001b[39m \u001b[38;5;28minput\u001b[39m(\u001b[38;5;124m\"\u001b[39m\u001b[38;5;124menter a number 1-7: \u001b[39m\u001b[38;5;124m\"\u001b[39m)\n\u001b[0;32m----> 6\u001b[0m number \u001b[38;5;241m=\u001b[39m \u001b[38;5;28;43mint\u001b[39;49m\u001b[43m(\u001b[49m\u001b[43musers_input\u001b[49m\u001b[43m)\u001b[49m\n\u001b[1;32m      7\u001b[0m \u001b[38;5;66;03m# the code above calls to the user to input the if or each number and day i look to see is the number is inbetween 1 and 7 and if it is then it will check to see what corresponding day is \u001b[39;00m\n\u001b[1;32m      8\u001b[0m \u001b[38;5;28;01mif\u001b[39;00m number \u001b[38;5;241m==\u001b[39m \u001b[38;5;241m1\u001b[39m:\n",
            "\u001b[0;31mTypeError\u001b[0m: int() argument must be a string, a bytes-like object or a real number, not 'PyodideFuture'"
          ],
          "output_type": "error"
        },
        {
          "output_type": "stream",
          "name": "stdin",
          "text": "enter a number 1-7:  6\n"
        }
      ]
    },
    {
      "cell_type": "code",
      "source": "",
      "metadata": {
        "trusted": true
      },
      "execution_count": 1,
      "outputs": [
        {
          "execution_count": 1,
          "output_type": "execute_result",
          "data": {
            "text/plain": "6"
          },
          "metadata": {}
        }
      ]
    },
    {
      "cell_type": "code",
      "source": "",
      "metadata": {},
      "execution_count": null,
      "outputs": []
    }
  ]
}