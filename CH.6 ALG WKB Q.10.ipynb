{
  "metadata": {
    "language_info": {
      "codemirror_mode": {
        "name": "python",
        "version": 3
      },
      "file_extension": ".py",
      "mimetype": "text/x-python",
      "name": "python",
      "nbconvert_exporter": "python",
      "pygments_lexer": "ipython3",
      "version": "3.8"
    },
    "kernelspec": {
      "name": "python",
      "display_name": "Python (Pyodide)",
      "language": "python"
    }
  },
  "nbformat_minor": 4,
  "nbformat": 4,
  "cells": [
    {
      "cell_type": "code",
      "source": "# What will be the output of this code?\n\nx = float('abc123') \n  print(x) \nexcept IOError: \n  print('This code caused an IOError.') \nexcept ZeroDivisionError: \n  print('This code caused a ZeroDivisionError.') \nexcept: \n  print('An error happened.') \nprint('The end.')\n\n# This code is trying to float abc123 and after doing question 9 We know it results in an ValueError, so that means it would \n# output \"an error happened\", and then it would print \"the end\"",
      "metadata": {},
      "execution_count": null,
      "outputs": []
    }
  ]
}