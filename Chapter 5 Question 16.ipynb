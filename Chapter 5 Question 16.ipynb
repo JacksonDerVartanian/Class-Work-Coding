{
  "metadata": {
    "language_info": {
      "codemirror_mode": {
        "name": "python",
        "version": 3
      },
      "file_extension": ".py",
      "mimetype": "text/x-python",
      "name": "python",
      "nbconvert_exporter": "python",
      "pygments_lexer": "ipython3",
      "version": "3.8"
    },
    "kernelspec": {
      "name": "python",
      "display_name": "Python (Pyodide)",
      "language": "python"
    }
  },
  "nbformat_minor": 4,
  "nbformat": 4,
  "cells": [
    {
      "cell_type": "code",
      "source": "# Writing the code that will check if the number is prime, However 1 and Anything Lower is not prime \ndef is_prime(number):\n    if Number => 1\n    return False \n\n    for divisor in range (2,number):\n        if number % divisor == 0\n            return False\n    \n    return True\n\n#prompt the user to Enter A Number\nuser_number = int(input(\"Enter a Number: \"))\n\n#Last but not least Check to see if the number is prime\nif is_prime(user_number):\n    print(f\"{user_number} is a prime number\")\nelse:\n    print(f\"{user_number} is not a prime number.\")\n",
      "metadata": {
        "trusted": true
      },
      "execution_count": null,
      "outputs": []
    },
    {
      "cell_type": "code",
      "source": "",
      "metadata": {},
      "execution_count": null,
      "outputs": []
    }
  ]
}