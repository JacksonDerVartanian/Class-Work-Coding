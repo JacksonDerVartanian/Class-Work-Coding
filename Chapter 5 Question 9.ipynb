{
  "metadata": {
    "language_info": {
      "codemirror_mode": {
        "name": "python",
        "version": 3
      },
      "file_extension": ".py",
      "mimetype": "text/x-python",
      "name": "python",
      "nbconvert_exporter": "python",
      "pygments_lexer": "ipython3",
      "version": "3.8"
    },
    "kernelspec": {
      "name": "python",
      "display_name": "Python (Pyodide)",
      "language": "python"
    }
  },
  "nbformat_minor": 4,
  "nbformat": 4,
  "cells": [
    {
      "cell_type": "code",
      "source": "#One foot equals 12 inches. Write a function named feet_to_inches that accepts a number of feet as an argument and returns the number of inches in that many feet. Use the function in a program that prompts the user to enter a number of feet then displays the number of inches in that many feet.\n\n#Since I have just done basically this same thing It should look very similar to the Kilometers - miles question\n\ndef feet_to_inches(feet):\n    inches = feet * 12\n    return inches\n#This is the part of the code that is gonna run the conversion when needed\n\nusers_feet = float(input(\"Enter a Number of Feet: \"))\n#this Prompts the User to input an a number of feet\n\ninches_outcome = feet_to_inches(users_feet)\n#This then calls back to the function that is going to be doing the conversion\n\nprint(f\"{user_feet} feet is equivalent to {inches_outcome} inches.\")\n#this then just prints the Number of feet and then the number of inches it ended up being",
      "metadata": {
        "trusted": true
      },
      "execution_count": 1,
      "outputs": [
        {
          "ename": "<class 'TypeError'>",
          "evalue": "float() argument must be a string or a real number, not 'PyodideFuture'",
          "traceback": [
            "\u001b[0;31m---------------------------------------------------------------------------\u001b[0m",
            "\u001b[0;31mTypeError\u001b[0m                                 Traceback (most recent call last)",
            "Cell \u001b[0;32mIn[1], line 10\u001b[0m\n\u001b[1;32m      7\u001b[0m     \u001b[38;5;28;01mreturn\u001b[39;00m inches\n\u001b[1;32m      8\u001b[0m \u001b[38;5;66;03m#This is the part of the code that is gonna run the conversion when needed\u001b[39;00m\n\u001b[0;32m---> 10\u001b[0m users_feet \u001b[38;5;241m=\u001b[39m \u001b[38;5;28;43mfloat\u001b[39;49m\u001b[43m(\u001b[49m\u001b[38;5;28;43minput\u001b[39;49m\u001b[43m(\u001b[49m\u001b[38;5;124;43m\"\u001b[39;49m\u001b[38;5;124;43mEnter a Number of Feet: \u001b[39;49m\u001b[38;5;124;43m\"\u001b[39;49m\u001b[43m)\u001b[49m\u001b[43m)\u001b[49m\n\u001b[1;32m     11\u001b[0m \u001b[38;5;66;03m#this Prompts the User to input an a number of feet\u001b[39;00m\n\u001b[1;32m     13\u001b[0m inches_outcome \u001b[38;5;241m=\u001b[39m feet_to_inches(users_feet)\n",
            "\u001b[0;31mTypeError\u001b[0m: float() argument must be a string or a real number, not 'PyodideFuture'"
          ],
          "output_type": "error"
        }
      ]
    },
    {
      "cell_type": "code",
      "source": "",
      "metadata": {},
      "execution_count": null,
      "outputs": []
    }
  ]
}