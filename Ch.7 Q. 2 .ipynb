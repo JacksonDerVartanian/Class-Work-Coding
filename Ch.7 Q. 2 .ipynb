{
  "metadata": {
    "language_info": {
      "codemirror_mode": {
        "name": "python",
        "version": 3
      },
      "file_extension": ".py",
      "mimetype": "text/x-python",
      "name": "python",
      "nbconvert_exporter": "python",
      "pygments_lexer": "ipython3",
      "version": "3.8"
    },
    "kernelspec": {
      "name": "python",
      "display_name": "Python (Pyodide)",
      "language": "python"
    }
  },
  "nbformat_minor": 4,
  "nbformat": 4,
  "cells": [
    {
      "cell_type": "code",
      "source": "import random\n\n## Use code to create an empty list to store numbers\ndef generate_lottery_number():\n    lottery_numbers = []\n\n    # Generate seven random numbers and append them to the list\n    for_in range(7):\n        random_number = random.randint(0, 9)\n        lottery_numbers.append(random_number)\n\n    return lottery_numbers\n\ndef main():\n    # Generate the lottery number\n    lottery_number = generate_lottery_number()\n\n    # Display the contents of the list\n    print(\"Lottery Number:\")\n    for digit in lottery_number:\n        print(digit, end=' ')\n    print()  \n",
      "metadata": {},
      "execution_count": null,
      "outputs": []
    }
  ]
}