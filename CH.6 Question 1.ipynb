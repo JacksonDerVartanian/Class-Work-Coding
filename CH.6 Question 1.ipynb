{
  "metadata": {
    "language_info": {
      "codemirror_mode": {
        "name": "python",
        "version": 3
      },
      "file_extension": ".py",
      "mimetype": "text/x-python",
      "name": "python",
      "nbconvert_exporter": "python",
      "pygments_lexer": "ipython3",
      "version": "3.8"
    },
    "kernelspec": {
      "name": "python",
      "display_name": "Python (Pyodide)",
      "language": "python"
    }
  },
  "nbformat_minor": 4,
  "nbformat": 4,
  "cells": [
    {
      "cell_type": "code",
      "source": "file_name = input('enter the file name: ')\n#now were going to open the file for reading and then prompt the code to display each line of information\ntry: \n    with open(file_name, 'r') as file:\n        for line in file:\n            try:\n                number = int(line.strip())\n                print(number)\n",
      "metadata": {},
      "execution_count": null,
      "outputs": []
    }
  ]
}