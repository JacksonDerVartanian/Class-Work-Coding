{
  "metadata": {
    "language_info": {
      "codemirror_mode": {
        "name": "python",
        "version": 3
      },
      "file_extension": ".py",
      "mimetype": "text/x-python",
      "name": "python",
      "nbconvert_exporter": "python",
      "pygments_lexer": "ipython3",
      "version": "3.8"
    },
    "kernelspec": {
      "name": "python",
      "display_name": "Python (Pyodide)",
      "language": "python"
    }
  },
  "nbformat_minor": 4,
  "nbformat": 4,
  "cells": [
    {
      "cell_type": "code",
      "source": "# What will the following code output \n\nx = float('abc123') \n  print('The conversion is complete.') \nexcept IOError: \n  print('This code caused an IOError.') \nexcept ValueError: \n  print('This code caused a ValueError.') \nprint('The end.')\n\n# I think this code would cause a ValueError, Since abc123 is not a valid number so it is unable to be converted.",
      "metadata": {},
      "execution_count": null,
      "outputs": []
    }
  ]
}